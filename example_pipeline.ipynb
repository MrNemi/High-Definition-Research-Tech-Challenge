{
 "cells": [
  {
   "cell_type": "markdown",
   "metadata": {},
   "source": [
    "# Setup"
   ]
  },
  {
   "cell_type": "markdown",
   "metadata": {},
   "source": [
    "## Loading that data"
   ]
  },
  {
   "cell_type": "code",
   "execution_count": null,
   "metadata": {},
   "outputs": [],
   "source": [
    "import pandas as pd\n",
    "import numpy as np\n",
    "import matplotlib.pyplot as plt\n",
    "import seaborn as sns\n",
    "import numpy as np\n",
    "\n",
    "from sklearn.model_selection import train_test_split\n",
    "from sklearn.preprocessing import OrdinalEncoder, StandardScaler, MinMaxScaler\n",
    "\n",
    "from sklearn.pipeline import Pipeline\n",
    "from sklearn.ensemble import RandomForestClassifier\n",
    "from sklearn.svm import SVC\n",
    "from sklearn.linear_model import LogisticRegression\n",
    "from sklearn.metrics import accuracy_score\n",
    "from sklearn.model_selection import GridSearchCV\n",
    "\n",
    "import torch\n",
    "import torch.nn as nn\n",
    "import torch.optim as optim\n",
    "from torch.utils.data import TensorDataset, DataLoader\n",
    "\n",
    "import random\n",
    "\n",
    "\n",
    "train = pd.read_csv('./ae-data/training_set.csv')\n",
    "test = pd.read_csv('./ae-data/test_set.csv')"
   ]
  },
  {
   "cell_type": "markdown",
   "metadata": {},
   "source": [
    "## Altered Dictionary"
   ]
  },
  {
   "cell_type": "markdown",
   "metadata": {},
   "source": [
    "The \"Harder to explain\" variables are:\n",
    "\n",
    "IMD_Decile_From_LSOA - IMD Decile Description. Goes from most deprived (1) to least deprived (10). Best to set to 5 if missing for now. The IMD Overall Ranking to identify which one of ten groups a Super Output Area belongs to, from most deprived through to least deprived.\n",
    "\n",
    "Sex - Based on the data dictionary, 1 for Male and 2 for Female, 9 for Indeterminate. Make 0 (unknown) for missing.\n",
    "\n",
    "AE_HRG - No idea. Not sure if it's important. Leaving it out.\n"
   ]
  },
  {
   "cell_type": "markdown",
   "metadata": {},
   "source": [
    "# Preprocessing"
   ]
  },
  {
   "cell_type": "markdown",
   "metadata": {},
   "source": [
    "## Handle missing values"
   ]
  },
  {
   "cell_type": "code",
   "execution_count": null,
   "metadata": {},
   "outputs": [],
   "source": [
    "## Removing columns with excessive number of null values\n",
    "## THIS CELL IS VERY MUCH EDITABLE\n",
    "\n",
    "# Define the threshold for missing values\n",
    "missing_threshold = 0.5\n",
    "\n",
    "# Identify columns in the training set that have more than 50% missing values\n",
    "# Not dropping after some exploratory analysis. When it's present it is a good (perfect?) indicator of if someone has been admitted.\n",
    "\n",
    "columns_to_drop_train = train.columns[((train.isnull().mean() > missing_threshold) & (train.columns != 'Length_Of_Stay_Days')) | (train.columns == 'AE_Arrive_HourOfDay')]\n",
    "\n",
    "print(columns_to_drop_train)\n",
    "\n",
    "# Drop these columns from the training set\n",
    "train_drop = train.drop(columns_to_drop_train, axis=1)\n",
    "\n",
    "# Drop the same columns from the test set\n",
    "test_drop = test.drop(columns_to_drop_train, axis=1)"
   ]
  },
  {
   "cell_type": "code",
   "execution_count": null,
   "metadata": {},
   "outputs": [],
   "source": [
    "# A few acceptable data transformations\n",
    "# Set any null values in the 'Sex' column of test and train drop to 0\n",
    "\n",
    "train_drop['Sex'] = train_drop['Sex'].fillna(0)\n",
    "\n",
    "test_drop['Sex'] = test_drop['Sex'].fillna(0)\n",
    "\n",
    "# Set any null values in the 'Provider_Patient_Distance_Miles' column of test and train drop to the mean of the column\n",
    "\n",
    "train_drop['Provider_Patient_Distance_Miles'] = train_drop['Provider_Patient_Distance_Miles'].fillna(int(train_drop['Provider_Patient_Distance_Miles'].mean()))\n",
    "\n",
    "test_drop['Provider_Patient_Distance_Miles'] = test_drop['Provider_Patient_Distance_Miles'].fillna(int(train_drop['Provider_Patient_Distance_Miles'].mean()))\n",
    "\n",
    "\n",
    "# Set any null values in the 'IMD_Decile_From_LSOA' column of test and train drop to 5. This is the median value of the column.\n",
    "train_drop['IMD_Decile_From_LSOA'] = train_drop['IMD_Decile_From_LSOA'].fillna(5)\n",
    "\n",
    "test_drop['IMD_Decile_From_LSOA'] = test_drop['IMD_Decile_From_LSOA'].fillna(5)\n",
    "\n",
    "\n",
    "# Set any null values of 'Length_Of_Stays_Days' to 0. Throught it would make more sense for them not to have been put in the database rather than have stayed and not been recorded.\n",
    "\n",
    "train_drop['Length_Of_Stay_Days'] = train_drop['Provider_Patient_Distance_Miles'].fillna(0)\n",
    "\n",
    "test_drop['Length_Of_Stay_Days'] = test_drop['Provider_Patient_Distance_Miles'].fillna(0)\n",
    "\n",
    "\n",
    "# Replace 'NaN' in \"EA_HRG\" with the value \"Nothing\"\n",
    "\n",
    "train_drop['AE_HRG'] = train_drop['AE_HRG'].fillna('Nothing')\n",
    "\n",
    "test_drop['AE_HRG'] = test_drop['AE_HRG'].fillna('Nothing')\n"
   ]
  },
  {
   "cell_type": "code",
   "execution_count": null,
   "metadata": {},
   "outputs": [],
   "source": [
    "# ## Data removals\n",
    "# ## Planning to remove all null values for Arrival Hour. This is because it feels like a pretty important feature and there are only a couple hundred missing, doubt it will sway things too much.\n",
    "\n",
    "# train_drop = train_drop.dropna(subset=['AE_Arrive_HourOfDay'])\n",
    "\n",
    "# test_drop = test_drop.dropna(subset=['AE_Arrive_HourOfDay'])"
   ]
  },
  {
   "cell_type": "code",
   "execution_count": null,
   "metadata": {},
   "outputs": [],
   "source": [
    "# Count of missing values in the training set\n",
    "print(train_drop.isnull().sum())\n",
    "\n",
    "# Count of missing values in the test set\n",
    "print(test_drop.isnull().sum())"
   ]
  },
  {
   "cell_type": "markdown",
   "metadata": {},
   "source": [
    "## Train/Val Splitting"
   ]
  },
  {
   "cell_type": "code",
   "execution_count": null,
   "metadata": {},
   "outputs": [],
   "source": [
    "## Splitting the training data into training and validation sets\n",
    "\n",
    "# Set the proportion of the dataset to include in the test split\n",
    "test_size = 0.20\n",
    "# Set the proportion of the training dataset to include in the validation split\n",
    "validation_size = 0.25\n",
    "\n",
    "# Separate the features and the target variable in the training set\n",
    "X_train = train_drop.drop('Admitted_Flag', axis=1)\n",
    "y_train = train_drop['Admitted_Flag']\n",
    "\n",
    "# Drop 'ProvID' from both sets\n",
    "X_train = X_train.drop('ProvID', axis=1)\n",
    "output_test = test_drop.drop('ProvID', axis=1)\n",
    "\n",
    "# Drop 'Record_ID' from the training set\n",
    "X_train = X_train.drop('Record_ID', axis=1)\n",
    "\n",
    "# Keep a copy of 'Record_ID' from the test set and then drop it from the test set\n",
    "test_record_id = output_test['Record_ID']\n",
    "output_test = output_test.drop('Record_ID', axis=1)\n",
    "\n",
    "# Split the training data into a smaller training set and a test set\n",
    "X_train, X_test, y_train, y_test = train_test_split(X_train, y_train, test_size=test_size, random_state=42)\n",
    "\n",
    "# Split the training data into a training set and a validation set\n",
    "X_train, X_val, y_train, y_val = train_test_split(X_train, y_train, test_size=validation_size, random_state=42)"
   ]
  },
  {
   "cell_type": "markdown",
   "metadata": {},
   "source": [
    "## Categorical Data Encoding"
   ]
  },
  {
   "cell_type": "markdown",
   "metadata": {},
   "source": [
    "The Categroical variables in our dataset are:\n",
    "\n",
    "- Age Band\n",
    "- AE_Arrive_HourOfDay\n",
    "- AE_HRG\n",
    "\n",
    "We will perform one-hot encoding on the following variables:\n",
    "\n",
    "- AE_Arrive_HourOfDay\n",
    "- AE_HRG\n",
    "\n",
    "And we will perfrom ordinal encoding on the following variables (this is we want to preserve the order of the categories, since they aren't really independent of each other):\n",
    "\n",
    "- Age Band (There is a natural ordering to the age bands. If this fucks up classification downstream, we should try making this one-hot as well)"
   ]
  },
  {
   "cell_type": "code",
   "execution_count": null,
   "metadata": {},
   "outputs": [],
   "source": [
    "# train_encoded = pd.get_dummies(train_drop, columns=['AE_Arrive_HourOfDay','AE_HRG'])\n",
    "X_train = pd.get_dummies(X_train, columns=['AE_HRG'])\n",
    "X_test = pd.get_dummies(X_test, columns=['AE_HRG'])\n",
    "X_val = pd.get_dummies(X_val, columns=['AE_HRG'])\n",
    "\n",
    "encoder = OrdinalEncoder()\n",
    "\n",
    "encoder.fit(X_train[['Age_Band']])\n",
    "\n",
    "X_train['Age_Band'] = encoder.transform(X_train[['Age_Band']])\n",
    "X_test['Age_Band'] = encoder.transform(X_test[['Age_Band']])\n",
    "X_val['Age_Band'] = encoder.transform(X_val[['Age_Band']])\n"
   ]
  },
  {
   "cell_type": "markdown",
   "metadata": {},
   "source": [
    "## Date Processing"
   ]
  },
  {
   "cell_type": "code",
   "execution_count": null,
   "metadata": {},
   "outputs": [],
   "source": [
    "# First convert to datetime format\n",
    "X_train['AE_Arrive_Date'] = pd.to_datetime(X_train['AE_Arrive_Date'])\n",
    "X_test['AE_Arrive_Date'] = pd.to_datetime(X_test['AE_Arrive_Date'])\n",
    "X_val['AE_Arrive_Date'] = pd.to_datetime(X_val['AE_Arrive_Date'])\n",
    "\n",
    "# Then extract date components\n",
    "for df in [X_train, X_test, X_val]:\n",
    "    df['Arrival_Year'] = df['AE_Arrive_Date'].dt.year\n",
    "    df['Arrival_Month'] = df['AE_Arrive_Date'].dt.month\n",
    "    df['Arrival_Day'] = df['AE_Arrive_Date'].dt.day\n",
    "    df['Arrival_DayOfWeek'] = df['AE_Arrive_Date'].dt.dayofweek  # Monday=0, Sunday=6\n",
    "\n",
    "# Drop the original 'AE_Arrive_Date' field\n",
    "X_train.drop('AE_Arrive_Date', axis=1, inplace=True)\n",
    "X_test.drop('AE_Arrive_Date', axis=1, inplace=True)\n",
    "X_val.drop('AE_Arrive_Date', axis=1, inplace=True)"
   ]
  },
  {
   "cell_type": "markdown",
   "metadata": {},
   "source": [
    "## Feature Scaling"
   ]
  },
  {
   "cell_type": "code",
   "execution_count": null,
   "metadata": {},
   "outputs": [],
   "source": [
    "# Choose standardization or min-max scaling\n",
    "# This is not needed for decision trees and random forests as they are not affected by the scale of the data\n",
    "# Needed for logistic regression, SVM, perceptron, kNN, neural networks, etc.\n",
    "\n",
    "# scaler = StandardScaler() - resulting distribution has a mean of 0 and a standard deviation of 1\n",
    "scaler = MinMaxScaler()  # - transforms your data to a range between 0 and 1\n",
    "\n",
    "# Fit on training data\n",
    "scaler.fit(X_train)\n",
    "\n",
    "# Transform both training and test data\n",
    "X_train = pd.DataFrame(scaler.transform(X_train), columns=X_train.columns)\n",
    "X_test = pd.DataFrame(scaler.transform(X_test), columns=X_test.columns)\n",
    "X_val = pd.DataFrame(scaler.transform(X_val), columns=X_val.columns)"
   ]
  },
  {
   "cell_type": "markdown",
   "metadata": {},
   "source": [
    "## RUN, THAT (HYPERPARAMETER GRID SEARCH) MODEL"
   ]
  },
  {
   "cell_type": "code",
   "execution_count": null,
   "metadata": {},
   "outputs": [],
   "source": [
    "# # Define hyperparameter grids for each model\n",
    "# param_grid_lr = {\n",
    "#     'lr__C': [5, 10, 15, 20],\n",
    "#     'lr__penalty': ['l1', 'l2'],\n",
    "#     'lr__solver': ['liblinear']\n",
    "# }\n",
    "\n",
    "# param_grid_rf = {\n",
    "#     'rf__n_estimators': [200, 250, 300],\n",
    "#     'rf__max_depth': [None, 8, 10, 12, 14],\n",
    "#     'rf__min_samples_split': [2, 5, 10],\n",
    "#     'rf__min_samples_leaf': [1, 2, 4]\n",
    "# }\n",
    "\n",
    "# param_grid_svm = {\n",
    "#     'svm__C': [5, 10, 15, 20],\n",
    "#     'svm__kernel': ['linear', 'rbf', 'poly'],\n",
    "#     'svm__degree': [2, 3, 4]\n",
    "# }\n",
    "\n",
    "\n",
    "# # Random Forests pipeline\n",
    "# pipeline_rf = Pipeline([\n",
    "#     ('rf', RandomForestClassifier(random_state=42))\n",
    "# ])\n",
    "\n",
    "# # SVM pipeline\n",
    "# pipeline_svm = Pipeline([\n",
    "#     ('svm', SVC(random_state=42))\n",
    "# ])\n",
    "\n",
    "# # Logistic Regression pipeline\n",
    "# pipeline_lr = Pipeline([\n",
    "#     ('lr', LogisticRegression(random_state=42))\n",
    "# ])\n",
    "\n",
    "# param_grids = [param_grid_rf, param_grid_svm, param_grid_lr]\n",
    "# pipelines = [pipeline_rf, pipeline_svm, pipeline_lr]\n",
    "# pipeline_names = ['Random Forests', 'SVM', 'Logistic Regression']\n",
    "\n",
    "# for i, (pipeline, param_grid) in enumerate(zip(pipelines, param_grids)):\n",
    "#     grid_search = GridSearchCV(pipeline, param_grid, scoring='accuracy', cv=5, n_jobs=-1)\n",
    "#     # Fit the pipeline on the training data\n",
    "#     grid_search.fit(X_train, y_train)\n",
    "\n",
    "#     best_params = grid_search.best_params_\n",
    "#     best_pipeline = grid_search.best_estimator_   \n",
    "\n",
    "#     # Display the best hyperparameters\n",
    "#     print(f\"Best hyperparameters for {pipeline_names[i]}: {best_params}\")\n",
    "     \n",
    "#     # Make predictions on the validation data\n",
    "#     y_val_pred = best_pipeline.predict(X_val)\n",
    "    \n",
    "#     # Evaluate the predictions\n",
    "#     accuracy = accuracy_score(y_val, y_val_pred)\n",
    "    \n",
    "#     print(f'{pipeline_names[i]} validation accuracy: {accuracy}')\n"
   ]
  },
  {
   "cell_type": "markdown",
   "metadata": {},
   "source": [
    "## Slightly more advanced models"
   ]
  },
  {
   "cell_type": "markdown",
   "metadata": {},
   "source": [
    "### Neural Network Class Functions"
   ]
  },
  {
   "cell_type": "code",
   "execution_count": null,
   "metadata": {},
   "outputs": [],
   "source": [
    "class FeedforwardNeuralNetModel(nn.Module):\n",
    "    def __init__(self, input_dim):\n",
    "        super(FeedforwardNeuralNetModel, self).__init__()\n",
    "        # Linear function 1: input_dim --> 128\n",
    "        self.fc1 = nn.Linear(input_dim, 128) \n",
    "        # Non-linearity 1\n",
    "        self.relu1 = nn.LeakyReLU(negative_slope=0.01)\n",
    "        \n",
    "        # Linear function 2: 128 --> 64\n",
    "        self.fc2 = nn.Linear(128, 64)\n",
    "        # Non-linearity 2\n",
    "        self.relu2 = nn.LeakyReLU(negative_slope=0.01)\n",
    "\n",
    "        # Linear function 3: 64 --> 32\n",
    "        self.fc3 = nn.Linear(64, 32)\n",
    "        # Non-linearity 3\n",
    "        self.relu3 = nn.LeakyReLU(negative_slope=0.01)\n",
    "        \n",
    "        # Linear function 4 (readout): 32 --> 1\n",
    "        self.fc4 = nn.Linear(32, 1)\n",
    "        # Sigmoid function\n",
    "        self.sigmoid = nn.Sigmoid()\n",
    "\n",
    "    def forward(self, x):\n",
    "        out = self.fc1(x)\n",
    "        out = self.relu1(out)\n",
    "        out = self.fc2(out)\n",
    "        out = self.relu2(out)\n",
    "        out = self.fc3(out)\n",
    "        out = self.relu3(out)\n",
    "        out = self.fc4(out)\n",
    "        out = self.sigmoid(out)\n",
    "        return out"
   ]
  },
  {
   "cell_type": "markdown",
   "metadata": {},
   "source": [
    "### Run the Neural Nets"
   ]
  },
  {
   "cell_type": "code",
   "execution_count": null,
   "metadata": {},
   "outputs": [],
   "source": [
    "device = torch.device(\"mps\" if torch.torch.backends.mps.is_available() else \"cpu\")"
   ]
  },
  {
   "cell_type": "code",
   "execution_count": null,
   "metadata": {},
   "outputs": [],
   "source": [
    "# Hyperparameters for the neural network\n",
    "\n",
    "learning_rates = [1e-3, 1e-4, 1e-5]\n",
    "batch_sizes = [32, 64, 128, 256]\n",
    "optimizers = [optim.Adam, optim.RMSprop, optim.SGD]\n",
    "epochs_range = [50, 200, 500]\n"
   ]
  },
  {
   "cell_type": "code",
   "execution_count": null,
   "metadata": {},
   "outputs": [],
   "source": [
    "# Convert the variables to work with Torch\n",
    "\n",
    "input_dim = X_train.shape[1]\n",
    "model = FeedforwardNeuralNetModel(input_dim)\n",
    "\n",
    "criterion = nn.BCELoss()  # Binary Cross Entropy Loss for binary classification\n",
    "optimizer = torch.optim.Adam(model.parameters(), lr=0.001)\n",
    "\n",
    "X_train_tensor = torch.tensor(X_train.values, dtype=torch.float32)\n",
    "y_train_tensor = torch.tensor(y_train.values, dtype=torch.float32)\n",
    "y_train_tensor = y_train_tensor.view(y_train_tensor.shape[0], 1)  # Reshaping to match output shape\n",
    "\n",
    "X_val_tensor = torch.tensor(X_val.values, dtype=torch.float32)\n",
    "y_val_tensor = torch.tensor(y_val.values, dtype=torch.float32)\n",
    "y_val_tensor = y_val_tensor.view(y_val_tensor.shape[0], 1)\n",
    "\n",
    "train_dataset = TensorDataset(X_train_tensor, y_train_tensor)\n",
    "val_dataset = TensorDataset(X_val_tensor, y_val_tensor)"
   ]
  },
  {
   "cell_type": "code",
   "execution_count": null,
   "metadata": {},
   "outputs": [],
   "source": [
    "# Define a function to train and validate the model\n",
    "def train_and_validate(model, criterion, optimizer, train_loader, val_loader, epochs, trial):\n",
    "    best_accuracy = 0.0\n",
    "    best_epoch = 0\n",
    "    best_val_loss = float('inf')\n",
    "    patience_counter = 0\n",
    "    patience = 10\n",
    "\n",
    "    for epoch in range(epochs):\n",
    "        model.train()  # Set model to training mode\n",
    "        total_train_loss = 0\n",
    "\n",
    "        for i, (X_batch, y_batch) in enumerate(train_loader):\n",
    "            X_batch, y_batch = X_batch.to(device), y_batch.to(device)\n",
    "\n",
    "            # Forward pass\n",
    "            outputs = model(X_batch)\n",
    "            loss = criterion(outputs, y_batch)\n",
    "            \n",
    "            # Backward pass and optimization\n",
    "            optimizer.zero_grad()\n",
    "            loss.backward()\n",
    "            optimizer.step()\n",
    "\n",
    "            total_train_loss += loss.item()\n",
    "\n",
    "        avg_train_loss = total_train_loss / len(train_loader)\n",
    "        print(f'Epoch [{epoch+1}/{epochs}], Average Training Loss: {avg_train_loss:.4f}')\n",
    "\n",
    "        model.eval()  # Set model to evaluation mode\n",
    "        total_val_loss = 0\n",
    "        correct_preds = 0\n",
    "        total_preds = 0\n",
    "\n",
    "        with torch.no_grad():\n",
    "\n",
    "            for X_val_batch, y_val_batch in val_loader:\n",
    "                X_val_batch, y_val_batch = X_val_batch.to(device), y_val_batch.to(device)\n",
    "\n",
    "                val_outputs = model(X_val_batch)\n",
    "                val_loss = criterion(val_outputs, y_val_batch)\n",
    "                total_val_loss += val_loss.item()\n",
    "\n",
    "                val_preds = (val_outputs > 0.5).float()\n",
    "                correct_preds += (val_preds == y_val_batch).sum().item()\n",
    "                total_preds += y_val_batch.size(0)\n",
    "\n",
    "        avg_val_loss = total_val_loss / len(val_loader)\n",
    "        avg_val_accuracy = correct_preds / total_preds\n",
    "\n",
    "        # Check if validation loss has improved\n",
    "        if avg_val_loss < best_val_loss:\n",
    "            best_val_loss = avg_val_loss\n",
    "            patience_counter = 0\n",
    "        else:\n",
    "            patience_counter += 1\n",
    "\n",
    "        # Check if we have waited for too long without improvement.\n",
    "        # Sign of overfitting\n",
    "        if patience_counter > patience:\n",
    "            print(f\"Early stopping at epoch {epoch}. Best loss was {best_val_loss:.4f}\")\n",
    "            break\n",
    "\n",
    "        if avg_val_accuracy > best_accuracy:\n",
    "            best_accuracy = avg_val_accuracy\n",
    "            best_epoch = epoch + 1\n",
    "\n",
    "        print(f'Epoch [{epoch+1}/{epochs}], Average Validation Loss: {avg_val_loss:.4f}, Average Validation Accuracy: {avg_val_accuracy:.4f}')\n",
    "\n",
    "    print(f'Best Validation Accuracy: {best_accuracy:.4f} at epoch {best_epoch} for trial {trial}')\n",
    "\n",
    "    return best_accuracy\n",
    "\n"
   ]
  },
  {
   "cell_type": "code",
   "execution_count": null,
   "metadata": {},
   "outputs": [],
   "source": [
    "best_accuracy = 0\n",
    "best_params = {}\n",
    "NUM_TRAILS = 10\n",
    "input_dim = X_train.shape[1]\n",
    "\n",
    "for t in range(NUM_TRAILS):\n",
    "    lr = random.choice(learning_rates)\n",
    "    batch_size = random.choice(batch_sizes)\n",
    "    optimizer_choice = random.choice(optimizers)\n",
    "    epochs = random.choice(epochs_range)\n",
    "\n",
    "    train_loader = DataLoader(dataset=train_dataset, batch_size=batch_size, shuffle=True)\n",
    "    val_loader = DataLoader(dataset=val_dataset, batch_size=batch_size, shuffle=False)\n",
    "\n",
    "    model = FeedforwardNeuralNetModel(input_dim).to(device)\n",
    "    optimizer = optimizer_choice(model.parameters(), lr=lr)\n",
    "    criterion = nn.BCELoss()\n",
    "\n",
    "    accuracy = train_and_validate(model, criterion, optimizer, train_loader, val_loader, epochs, t)\n",
    "\n",
    "    if accuracy > best_accuracy:\n",
    "        best_accuracy = accuracy\n",
    "        best_params = {\n",
    "            \"Learning Rate\": lr,\n",
    "            \"Batch Size\": batch_size,\n",
    "            \"Optimizer\": optimizer_choice,\n",
    "            \"Epochs\": epochs\n",
    "        }\n",
    "\n",
    "print(f\"Best accuracy: {best_accuracy}\")\n",
    "print(f\"Best parameters: {best_params}\")\n",
    "\n"
   ]
  },
  {
   "cell_type": "code",
   "execution_count": null,
   "metadata": {},
   "outputs": [],
   "source": [
    "print(best_params)"
   ]
  },
  {
   "cell_type": "markdown",
   "metadata": {},
   "source": [
    "Best for Relu activation forward NN : {'Learning Rate': 0.0001, 'Batch Size': 64, 'Optimizer': <class 'torch.optim.rmsprop.RMSprop'>, 'Epochs': 500}"
   ]
  },
  {
   "cell_type": "markdown",
   "metadata": {},
   "source": [
    "Best for LeakyRelu : "
   ]
  }
 ],
 "metadata": {
  "kernelspec": {
   "display_name": "kaggle",
   "language": "python",
   "name": "python3"
  },
  "language_info": {
   "codemirror_mode": {
    "name": "ipython",
    "version": 3
   },
   "file_extension": ".py",
   "mimetype": "text/x-python",
   "name": "python",
   "nbconvert_exporter": "python",
   "pygments_lexer": "ipython3",
   "version": "3.11.3"
  },
  "orig_nbformat": 4
 },
 "nbformat": 4,
 "nbformat_minor": 2
}
