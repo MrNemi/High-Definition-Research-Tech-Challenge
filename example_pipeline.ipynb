{
 "cells": [
  {
   "cell_type": "markdown",
   "metadata": {},
   "source": [
    "# Setup"
   ]
  },
  {
   "cell_type": "markdown",
   "metadata": {},
   "source": [
    "## Loading that data"
   ]
  },
  {
   "cell_type": "code",
   "execution_count": 1,
   "metadata": {},
   "outputs": [],
   "source": [
    "import pandas as pd\n",
    "import numpy as np\n",
    "import matplotlib.pyplot as plt\n",
    "import seaborn as sns\n",
    "import numpy as np\n",
    "\n",
    "from sklearn.model_selection import train_test_split\n",
    "from sklearn.preprocessing import OrdinalEncoder, StandardScaler, MinMaxScaler\n",
    "\n",
    "from sklearn.pipeline import Pipeline\n",
    "from sklearn.ensemble import RandomForestClassifier\n",
    "from sklearn.svm import SVC\n",
    "from sklearn.linear_model import LogisticRegression\n",
    "from sklearn.metrics import accuracy_score\n",
    "\n",
    "train = pd.read_csv('./ae-data/training_set.csv')\n",
    "test = pd.read_csv('./ae-data/test_set.csv')"
   ]
  },
  {
   "cell_type": "markdown",
   "metadata": {},
   "source": [
    "## Altered Dictionary"
   ]
  },
  {
   "cell_type": "markdown",
   "metadata": {},
   "source": [
    "The \"Harder to explain\" variables are:\n",
    "\n",
    "IMD_Decile_From_LSOA - IMD Decile Description. Goes from most deprived (1) to least deprived (10). Best to set to 5 if missing for now. The IMD Overall Ranking to identify which one of ten groups a Super Output Area belongs to, from most deprived through to least deprived.\n",
    "\n",
    "Sex - Based on the data dictionary, 1 for Male and 2 for Female, 9 for Indeterminate. Make 0 (unknown) for missing.\n",
    "\n",
    "AE_HRG - No idea. Not sure if it's important. Leaving it out.\n"
   ]
  },
  {
   "cell_type": "markdown",
   "metadata": {},
   "source": [
    "# Preprocessing"
   ]
  },
  {
   "cell_type": "markdown",
   "metadata": {},
   "source": [
    "## Handle missing values"
   ]
  },
  {
   "cell_type": "code",
   "execution_count": 2,
   "metadata": {},
   "outputs": [
    {
     "name": "stdout",
     "output_type": "stream",
     "text": [
      "Index(['AE_Arrive_HourOfDay', 'ICD10_Chapter_Code', 'Treatment_Function_Code'], dtype='object')\n"
     ]
    }
   ],
   "source": [
    "## Removing columns with excessive number of null values\n",
    "## THIS CELL IS VERY MUCH EDITABLE\n",
    "\n",
    "# Define the threshold for missing values\n",
    "missing_threshold = 0.5\n",
    "\n",
    "# Identify columns in the training set that have more than 50% missing values\n",
    "# Not dropping after some exploratory analysis. When it's present it is a good (perfect?) indicator of if someone has been admitted.\n",
    "\n",
    "columns_to_drop_train = train.columns[((train.isnull().mean() > missing_threshold) & (train.columns != 'Length_Of_Stay_Days')) | (train.columns == 'AE_Arrive_HourOfDay')]\n",
    "\n",
    "print(columns_to_drop_train)\n",
    "\n",
    "# Drop these columns from the training set\n",
    "train_drop = train.drop(columns_to_drop_train, axis=1)\n",
    "\n",
    "# Drop the same columns from the test set\n",
    "test_drop = test.drop(columns_to_drop_train, axis=1)"
   ]
  },
  {
   "cell_type": "code",
   "execution_count": 3,
   "metadata": {},
   "outputs": [],
   "source": [
    "# A few acceptable data transformations\n",
    "# Set any null values in the 'Sex' column of test and train drop to 0\n",
    "\n",
    "train_drop['Sex'] = train_drop['Sex'].fillna(0)\n",
    "\n",
    "test_drop['Sex'] = test_drop['Sex'].fillna(0)\n",
    "\n",
    "# Set any null values in the 'Provider_Patient_Distance_Miles' column of test and train drop to the mean of the column\n",
    "\n",
    "train_drop['Provider_Patient_Distance_Miles'] = train_drop['Provider_Patient_Distance_Miles'].fillna(int(train_drop['Provider_Patient_Distance_Miles'].mean()))\n",
    "\n",
    "test_drop['Provider_Patient_Distance_Miles'] = test_drop['Provider_Patient_Distance_Miles'].fillna(int(train_drop['Provider_Patient_Distance_Miles'].mean()))\n",
    "\n",
    "\n",
    "# Set any null values in the 'IMD_Decile_From_LSOA' column of test and train drop to 5. This is the median value of the column.\n",
    "train_drop['IMD_Decile_From_LSOA'] = train_drop['IMD_Decile_From_LSOA'].fillna(5)\n",
    "\n",
    "test_drop['IMD_Decile_From_LSOA'] = test_drop['IMD_Decile_From_LSOA'].fillna(5)\n",
    "\n",
    "\n",
    "# Set any null values of 'Length_Of_Stays_Days' to 0. Throught it would make more sense for them not to have been put in the database rather than have stayed and not been recorded.\n",
    "\n",
    "train_drop['Length_Of_Stay_Days'] = train_drop['Provider_Patient_Distance_Miles'].fillna(0)\n",
    "\n",
    "test_drop['Length_Of_Stay_Days'] = test_drop['Provider_Patient_Distance_Miles'].fillna(0)\n",
    "\n",
    "\n",
    "# Replace 'NaN' in \"EA_HRG\" with the value \"Nothing\"\n",
    "\n",
    "train_drop['AE_HRG'] = train_drop['AE_HRG'].fillna('Nothing')\n",
    "\n",
    "test_drop['AE_HRG'] = test_drop['AE_HRG'].fillna('Nothing')\n"
   ]
  },
  {
   "cell_type": "code",
   "execution_count": 4,
   "metadata": {},
   "outputs": [],
   "source": [
    "# ## Data removals\n",
    "# ## Planning to remove all null values for Arrival Hour. This is because it feels like a pretty important feature and there are only a couple hundred missing, doubt it will sway things too much.\n",
    "\n",
    "# train_drop = train_drop.dropna(subset=['AE_Arrive_HourOfDay'])\n",
    "\n",
    "# test_drop = test_drop.dropna(subset=['AE_Arrive_HourOfDay'])"
   ]
  },
  {
   "cell_type": "code",
   "execution_count": 5,
   "metadata": {},
   "outputs": [
    {
     "name": "stdout",
     "output_type": "stream",
     "text": [
      "IMD_Decile_From_LSOA               0\n",
      "Age_Band                           0\n",
      "Sex                                0\n",
      "AE_Arrive_Date                     0\n",
      "AE_Time_Mins                       0\n",
      "AE_HRG                             0\n",
      "AE_Num_Diagnoses                   0\n",
      "AE_Num_Investigations              0\n",
      "AE_Num_Treatments                  0\n",
      "AE_Arrival_Mode                    0\n",
      "Provider_Patient_Distance_Miles    0\n",
      "ProvID                             0\n",
      "Admitted_Flag                      0\n",
      "Length_Of_Stay_Days                0\n",
      "Record_ID                          0\n",
      "dtype: int64\n",
      "IMD_Decile_From_LSOA               0\n",
      "Age_Band                           0\n",
      "Sex                                0\n",
      "AE_Arrive_Date                     0\n",
      "AE_Time_Mins                       0\n",
      "AE_HRG                             0\n",
      "AE_Num_Diagnoses                   0\n",
      "AE_Num_Investigations              0\n",
      "AE_Num_Treatments                  0\n",
      "AE_Arrival_Mode                    0\n",
      "Provider_Patient_Distance_Miles    0\n",
      "ProvID                             0\n",
      "Length_Of_Stay_Days                0\n",
      "Record_ID                          0\n",
      "dtype: int64\n"
     ]
    }
   ],
   "source": [
    "# Count of missing values in the training set\n",
    "print(train_drop.isnull().sum())\n",
    "\n",
    "# Count of missing values in the test set\n",
    "print(test_drop.isnull().sum())"
   ]
  },
  {
   "cell_type": "markdown",
   "metadata": {},
   "source": [
    "## Categorical Data Encoding"
   ]
  },
  {
   "cell_type": "markdown",
   "metadata": {},
   "source": [
    "The Categroical variables in our dataset are:\n",
    "\n",
    "- Age Band\n",
    "- AE_Arrive_HourOfDay\n",
    "- AE_HRG\n",
    "\n",
    "We will perform one-hot encoding on the following variables:\n",
    "\n",
    "- AE_Arrive_HourOfDay\n",
    "- AE_HRG\n",
    "\n",
    "And we will perfrom ordinal encoding on the following variables (this is we want to preserve the order of the categories, since they aren't really independent of each other):\n",
    "\n",
    "- Age Band (There is a natural ordering to the age bands. If this fucks up classification downstream, we should try making this one-hot as well)"
   ]
  },
  {
   "cell_type": "code",
   "execution_count": 6,
   "metadata": {},
   "outputs": [],
   "source": [
    "# train_encoded = pd.get_dummies(train_drop, columns=['AE_Arrive_HourOfDay','AE_HRG'])\n",
    "train_encoded = pd.get_dummies(train_drop, columns=['AE_HRG'])\n",
    "\n",
    "\n",
    "# test_encoded = pd.get_dummies(test_drop, columns=['AE_Arrive_HourOfDay','AE_HRG'])\n",
    "test_encoded = pd.get_dummies(test_drop, columns=['AE_HRG'])\n",
    "\n",
    "\n",
    "X = [[\"1-17\",1], [\"18-24\",2], [\"25-44\",3], [\"45-64\",4], [\"65-84\",5], [\"85\",6]]\n",
    "encoder = OrdinalEncoder(X)\n",
    "\n",
    "encoder.fit(train[['Age_Band']])\n",
    "\n",
    "train_encoded['Age_Band'] = encoder.transform(train_encoded[['Age_Band']])\n",
    "test_encoded['Age_Band'] = encoder.transform(test_encoded[['Age_Band']])"
   ]
  },
  {
   "cell_type": "markdown",
   "metadata": {},
   "source": [
    "## Date Processing"
   ]
  },
  {
   "cell_type": "code",
   "execution_count": 7,
   "metadata": {},
   "outputs": [],
   "source": [
    "# First convert to datetime format\n",
    "train_encoded['AE_Arrive_Date'] = pd.to_datetime(train_encoded['AE_Arrive_Date'])\n",
    "test_encoded['AE_Arrive_Date'] = pd.to_datetime(test_encoded['AE_Arrive_Date'])\n",
    "\n",
    "# Then extract date components\n",
    "for df in [train_encoded, test_encoded]:\n",
    "    df['Arrival_Year'] = df['AE_Arrive_Date'].dt.year\n",
    "    df['Arrival_Month'] = df['AE_Arrive_Date'].dt.month\n",
    "    df['Arrival_Day'] = df['AE_Arrive_Date'].dt.day\n",
    "    df['Arrival_DayOfWeek'] = df['AE_Arrive_Date'].dt.dayofweek  # Monday=0, Sunday=6\n",
    "\n",
    "# Drop the original 'AE_Arrive_Date' field\n",
    "train_encoded = train_encoded.drop('AE_Arrive_Date', axis=1)\n",
    "test_encoded = test_encoded.drop('AE_Arrive_Date', axis=1)"
   ]
  },
  {
   "cell_type": "markdown",
   "metadata": {},
   "source": [
    "## Train/Val Splitting"
   ]
  },
  {
   "cell_type": "markdown",
   "metadata": {},
   "source": [
    "This is in the wrong place. Should be done before any of the preprocessing steps, but am a little lazy to put it back. Will do later.\n",
    "helps to prevent data leakage, where information from the validation set or test set influences the training process."
   ]
  },
  {
   "cell_type": "code",
   "execution_count": 8,
   "metadata": {},
   "outputs": [],
   "source": [
    "## Splitting the training data into training and validation sets\n",
    "\n",
    "# Set the proportion of the dataset to include in the validation split\n",
    "validation_size = 0.2\n",
    "\n",
    "# Separate the features and the target variable in the training set\n",
    "X_train = train_encoded.drop('Admitted_Flag', axis=1)\n",
    "y_train = train_encoded['Admitted_Flag']\n",
    "\n",
    "# Drop 'ProvID' from both sets\n",
    "X_train = X_train.drop('ProvID', axis=1)\n",
    "test_encoded = test_encoded.drop('ProvID', axis=1)\n",
    "\n",
    "# Drop 'Record_ID' from the training set\n",
    "X_train = X_train.drop('Record_ID', axis=1)\n",
    "\n",
    "# Keep a copy of 'Record_ID' from the test set and then drop it from the test set\n",
    "test_record_id = test_encoded['Record_ID']\n",
    "test_encoded = test_encoded.drop('Record_ID', axis=1)\n",
    "\n",
    "# Split the training data into a smaller training set and a validation set\n",
    "X_train, X_val, y_train, y_val = train_test_split(X_train, y_train, test_size=validation_size, random_state=42)\n"
   ]
  },
  {
   "cell_type": "markdown",
   "metadata": {},
   "source": [
    "## Feature Scaling"
   ]
  },
  {
   "cell_type": "code",
   "execution_count": 9,
   "metadata": {},
   "outputs": [],
   "source": [
    "# Choose standardization or min-max scaling\n",
    "# This is not needed for decision trees and random forests as they are not affected by the scale of the data\n",
    "# Needed for logistic regression, SVM, perceptron, kNN, neural networks, etc.\n",
    "\n",
    "# scaler = StandardScaler() - resulting distribution has a mean of 0 and a standard deviation of 1\n",
    "scaler = MinMaxScaler()  # - transforms your data to a range between 0 and 1\n",
    "\n",
    "# Fit on training data\n",
    "scaler.fit(X_train)\n",
    "\n",
    "# Transform both training and test data\n",
    "X_train = pd.DataFrame(scaler.transform(X_train), columns=X_train.columns)\n",
    "X_val = pd.DataFrame(scaler.transform(X_val), columns=X_val.columns)\n",
    "test = pd.DataFrame(scaler.transform(test_encoded), columns=test_encoded.columns)"
   ]
  },
  {
   "cell_type": "markdown",
   "metadata": {},
   "source": [
    "## RUN, THAT (STANDARD) MODEL"
   ]
  },
  {
   "cell_type": "code",
   "execution_count": 10,
   "metadata": {},
   "outputs": [
    {
     "name": "stdout",
     "output_type": "stream",
     "text": [
      "Random Forests validation accuracy: 0.8217\n",
      "SVM validation accuracy: 0.8139\n",
      "Logistic Regression validation accuracy: 0.81115\n"
     ]
    }
   ],
   "source": [
    "# Random Forests pipeline\n",
    "pipeline_rf = Pipeline([\n",
    "    ('rf', RandomForestClassifier(random_state=42))\n",
    "])\n",
    "\n",
    "# SVM pipeline\n",
    "pipeline_svm = Pipeline([\n",
    "    ('svm', SVC(random_state=42))\n",
    "])\n",
    "\n",
    "# Logistic Regression pipeline\n",
    "pipeline_lr = Pipeline([\n",
    "    ('lr', LogisticRegression(random_state=42))\n",
    "])\n",
    "\n",
    "pipelines = [pipeline_rf, pipeline_svm, pipeline_lr]\n",
    "pipeline_names = ['Random Forests', 'SVM', 'Logistic Regression']\n",
    "\n",
    "for i, pipeline in enumerate(pipelines):\n",
    "    # Fit the pipeline on the training data\n",
    "    pipeline.fit(X_train, y_train)\n",
    "    \n",
    "    # Make predictions on the validation data\n",
    "    y_val_pred = pipeline.predict(X_val)\n",
    "    \n",
    "    # Evaluate the predictions\n",
    "    accuracy = accuracy_score(y_val, y_val_pred)\n",
    "    \n",
    "    print(f'{pipeline_names[i]} validation accuracy: {accuracy}')\n"
   ]
  },
  {
   "cell_type": "code",
   "execution_count": 11,
   "metadata": {},
   "outputs": [
    {
     "data": {
      "image/png": "[encoded data removed]",
      "text/plain": [
       "<Figure size 1000x500 with 1 Axes>"
      ]
     },
     "metadata": {},
     "output_type": "display_data"
    }
   ],
   "source": [
    "## Perform a prediction with the best performing model on the test set, and output the results to a CSV file\n",
    "\n",
    "# Make predictions on the test set\n",
    "\n",
    "y_test_pred = pipeline_rf.predict(test)\n",
    "\n",
    "# Create a dataframe with the patient ID and the predicted probability of being admitted\n",
    "results = pd.DataFrame({'Record_ID': test_record_id, 'Admitted_Flag': y_test_pred})\n",
    "\n",
    "# Save the dataframe to a CSV file\n",
    "\n",
    "results.to_csv('results.csv', index=False)\n",
    "\n",
    "# Plot the feature importances\n",
    "\n",
    "importances = pipeline_rf.named_steps['rf'].feature_importances_\n",
    "\n",
    "# Sort importances\n",
    "sorted_index = np.argsort(importances)[::-1]\n",
    "x = range(len(importances))\n",
    "\n",
    "# Create tick labels\n",
    "labels = np.array(X_train.columns)[sorted_index]\n",
    "\n",
    "plt.figure(figsize=(10,5))\n",
    "plt.bar(x, importances[sorted_index])\n",
    "plt.xticks(x, labels, rotation=90)\n",
    "plt.title('Feature importances')\n",
    "plt.show()"
   ]
  }
 ],
 "metadata": {
  "kernelspec": {
   "display_name": "kaggle",
   "language": "python",
   "name": "python3"
  },
  "language_info": {
   "codemirror_mode": {
    "name": "ipython",
    "version": 3
   },
   "file_extension": ".py",
   "mimetype": "text/x-python",
   "name": "python",
   "nbconvert_exporter": "python",
   "pygments_lexer": "ipython3",
   "version": "3.11.3"
  },
  "orig_nbformat": 4
 },
 "nbformat": 4,
 "nbformat_minor": 2
}
